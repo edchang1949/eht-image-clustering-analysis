{
 "cells": [
  {
   "cell_type": "markdown",
   "metadata": {},
   "source": [
    "# PCA->k-means Image Classifier: Step 3"
   ]
  },
  {
   "cell_type": "code",
   "execution_count": null,
   "metadata": {},
   "outputs": [],
   "source": [
    "#%load_ext autotime\n",
    "#%load_ext autoreload\n",
    "#%autoreload 2\n",
    "\n",
    "import joblib\n",
    "\n",
    "from cls import *"
   ]
  },
  {
   "cell_type": "markdown",
   "metadata": {},
   "source": [
    "## Load PCA"
   ]
  },
  {
   "cell_type": "code",
   "execution_count": null,
   "metadata": {},
   "outputs": [],
   "source": [
    "pca = joblib.load('pca-all.joblib')"
   ]
  },
  {
   "cell_type": "code",
   "execution_count": null,
   "metadata": {},
   "outputs": [],
   "source": [
    "eigenimgs = [pca.components_[i,:].reshape(80,80) for i in range(32)]\n",
    "plot_grid(eigenimgs, ncol=8, vmin=-0.05, vmax=0.05, cmap='bwr')"
   ]
  },
  {
   "cell_type": "markdown",
   "metadata": {},
   "source": [
    "## Applying Principal Component Analysis (PCA)"
   ]
  },
  {
   "cell_type": "code",
   "execution_count": null,
   "metadata": {},
   "outputs": [],
   "source": [
    "vecs = joblib.load('vecs.joblib')"
   ]
  },
  {
   "cell_type": "code",
   "execution_count": null,
   "metadata": {},
   "outputs": [],
   "source": [
    "X_pca = pca.transform(vecs)\n",
    "print(\"transformed shape:\", X_pca.shape)"
   ]
  },
  {
   "cell_type": "code",
   "execution_count": null,
   "metadata": {},
   "outputs": [],
   "source": [
    "n  = X_pca.shape[1]\n",
    "nn = [n]\n",
    "while n > 50:\n",
    "    n //= 2\n",
    "    nn = [n] + nn\n",
    "\n",
    "Y_pca = X_pca[:,:nn[0]]\n",
    "for i in range(len(nn)-1):\n",
    "    print(i, nn[i], nn[i+1])\n",
    "    subset = X_pca[:,nn[i]:nn[i+1]]\n",
    "    Y_pca = np.concatenate([Y_pca,\n",
    "                            np.sum(np.where(subset > 0.0, subset, 0.0), axis=-1)[:,np.newaxis],\n",
    "                            np.sum(np.where(subset < 0.0, subset, 0.0), axis=-1)[:,np.newaxis]], axis=-1)\n",
    "\n",
    "print(\"transformed shape:\", Y_pca.shape)\n",
    "\n",
    "plt.rcParams[\"figure.figsize\"] = (12,6)\n",
    "for i in list(range(0,5)) + list(range(-5,0)):\n",
    "    plt.hist(Y_pca[:,i])"
   ]
  },
  {
   "cell_type": "markdown",
   "metadata": {},
   "source": [
    "## Save PCA features"
   ]
  },
  {
   "cell_type": "code",
   "execution_count": null,
   "metadata": {},
   "outputs": [],
   "source": [
    "joblib.dump(Y_pca, 'Y.joblib')"
   ]
  },
  {
   "cell_type": "code",
   "execution_count": null,
   "metadata": {},
   "outputs": [],
   "source": []
  }
 ],
 "metadata": {
  "kernelspec": {
   "display_name": "Python 3 (ipykernel)",
   "language": "python",
   "name": "python3"
  },
  "language_info": {
   "codemirror_mode": {
    "name": "ipython",
    "version": 3
   },
   "file_extension": ".py",
   "mimetype": "text/x-python",
   "name": "python",
   "nbconvert_exporter": "python",
   "pygments_lexer": "ipython3",
   "version": "3.9.12"
  }
 },
 "nbformat": 4,
 "nbformat_minor": 4
}
