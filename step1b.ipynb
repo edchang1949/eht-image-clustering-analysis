{
 "cells": [
  {
   "cell_type": "markdown",
   "metadata": {},
   "source": [
    "# PCA->k-means Image Classifier: Step 1b"
   ]
  },
  {
   "cell_type": "code",
   "execution_count": null,
   "metadata": {},
   "outputs": [],
   "source": [
    "#%load_ext autotime\n",
    "#%load_ext autoreload\n",
    "#%autoreload 2\n",
    "\n",
    "import joblib\n",
    "\n",
    "from cls import *"
   ]
  },
  {
   "cell_type": "markdown",
   "metadata": {},
   "source": [
    "## Load the Data"
   ]
  },
  {
   "cell_type": "code",
   "execution_count": null,
   "metadata": {},
   "outputs": [],
   "source": [
    "imgs = joblib.load('imgs.joblib')"
   ]
  },
  {
   "cell_type": "code",
   "execution_count": null,
   "metadata": {},
   "outputs": [],
   "source": [
    "keys = list(imgs.keys())"
   ]
  },
  {
   "cell_type": "code",
   "execution_count": null,
   "metadata": {},
   "outputs": [],
   "source": [
    "vecs = np.array([img.flatten() for f, img in imgs.items()])\n",
    "vecs_centered  = vecs - vecs.mean(axis=0)\n",
    "vecs_centered -= vecs_centered.mean(axis=1).reshape(vecs.shape[0], -1)"
   ]
  },
  {
   "cell_type": "code",
   "execution_count": null,
   "metadata": {},
   "outputs": [],
   "source": [
    "joblib.dump(keys,          'keys.joblib')\n",
    "joblib.dump(vecs_centered, 'vecs.joblib')"
   ]
  },
  {
   "cell_type": "code",
   "execution_count": null,
   "metadata": {},
   "outputs": [],
   "source": [
    "ehtims  = {f:img for f, img in imgs.items() if '3599/'  in f}\n",
    "smilis  = {f:img for f, img in imgs.items() if 'smili_static/'  in f}\n",
    "difmaps = {f:img for f, img in imgs.items() if 'difmap_static/' in f}"
   ]
  },
  {
   "cell_type": "code",
   "execution_count": null,
   "metadata": {},
   "outputs": [],
   "source": [
    "imgs_mean = [np.mean(img) for img in imgs.values()]\n",
    "imgs_mean_mean = np.mean(imgs_mean)\n",
    "\n",
    "plt.rcParams[\"figure.figsize\"] = (12,6)\n",
    "plt.hist([np.mean(img)/imgs_mean_mean for img in smilis.values()],  np.arange(0.1,1.1,0.001), label='SMILI')\n",
    "plt.hist([np.mean(img)/imgs_mean_mean for img in ehtims.values()],  np.arange(0.1,1.1,0.001), label='eth-imaging')\n",
    "plt.hist([np.mean(img)/imgs_mean_mean for img in difmaps.values()], np.arange(0.1,1.1,0.001), label='CLEAN')\n",
    "plt.xlabel('Normalized Flux')\n",
    "plt.ylabel('Count')\n",
    "plt.yscale('log')\n",
    "plt.legend()"
   ]
  },
  {
   "cell_type": "code",
   "execution_count": null,
   "metadata": {},
   "outputs": [],
   "source": [
    "import matplotlib.pyplot as plt\n",
    "import matplotlib as mpl\n",
    "\n",
    "fig = plt.figure(figsize=(0.4, 5))\n",
    "ax1 = fig.add_axes([0,0,1,1])\n",
    "\n",
    "cmap = copy(plt.get_cmap('bwr'))\n",
    "norm = mpl.colors.Normalize(vmin=-1, vmax=1)\n",
    "    \n",
    "cb1 = mpl.colorbar.ColorbarBase(ax1, cmap=cmap,\n",
    "                                norm=norm,\n",
    "                                # to use 'extend', you must\n",
    "                                # specify two extra boundaries:\n",
    "                                extend='both',\n",
    "                                spacing='proportional')                          \n",
    "\n",
    "plt.show()"
   ]
  },
  {
   "cell_type": "code",
   "execution_count": null,
   "metadata": {},
   "outputs": [],
   "source": [
    "import matplotlib.pyplot as plt\n",
    "import matplotlib as mpl\n",
    "\n",
    "fig = plt.figure(figsize=(0.4, 5))\n",
    "ax1 = fig.add_axes([0,0,1,1])\n",
    "\n",
    "cmap = copy(plt.get_cmap('afmhot_10us'))\n",
    "cmap.set_over('b')\n",
    "norm = mpl.colors.Normalize(vmin=0, vmax=1)\n",
    "    \n",
    "cb1 = mpl.colorbar.ColorbarBase(ax1, cmap=cmap,\n",
    "                                norm=norm,\n",
    "                                # to use 'extend', you must\n",
    "                                # specify two extra boundaries:\n",
    "                                extend='max',\n",
    "                                spacing='proportional')                          \n",
    "\n",
    "plt.show()"
   ]
  },
  {
   "cell_type": "code",
   "execution_count": null,
   "metadata": {},
   "outputs": [],
   "source": []
  },
  {
   "cell_type": "code",
   "execution_count": null,
   "metadata": {},
   "outputs": [],
   "source": []
  }
 ],
 "metadata": {
  "kernelspec": {
   "display_name": "Python 3 (ipykernel)",
   "language": "python",
   "name": "python3"
  },
  "language_info": {
   "codemirror_mode": {
    "name": "ipython",
    "version": 3
   },
   "file_extension": ".py",
   "mimetype": "text/x-python",
   "name": "python",
   "nbconvert_exporter": "python",
   "pygments_lexer": "ipython3",
   "version": "3.9.12"
  }
 },
 "nbformat": 4,
 "nbformat_minor": 4
}
